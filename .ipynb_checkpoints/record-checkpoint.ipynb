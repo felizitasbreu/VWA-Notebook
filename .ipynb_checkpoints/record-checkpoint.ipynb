{
 "cells": [
  {
   "cell_type": "code",
   "execution_count": 4,
   "id": "14d89947",
   "metadata": {},
   "outputs": [],
   "source": [
    "import numpy as np\n",
    "from matplotlib import pyplot as plt\n",
    "import IPython.display as ipd\n",
    "import soundfile as sf\n",
    "import sounddevice as sd\n",
    "from time import sleep\n",
    "import scipy.io.wavfile\n",
    "import librosa\n",
    "import ipywidgets as widgets\n",
    "import pyaudio\n",
    "import threading\n",
    "import wave"
   ]
  },
  {
   "cell_type": "code",
   "execution_count": 5,
   "id": "29db0c0e",
   "metadata": {},
   "outputs": [],
   "source": [
    "def process_recording(file, recording, detect_onsets, audio, sr=44100): \n",
    "    wavfile = wave.open(file, 'wb')      # Überführen der Aufnahme in eine wav-Datei\n",
    "    wavfile.setnchannels(1)\n",
    "    wavfile.setsampwidth(audio.get_sample_size(pyaudio.paInt16))\n",
    "    wavfile.setframerate(sr)\n",
    "    wavfile.writeframes(b''.join(recording))\n",
    "    wavfile.close()\n",
    "    \n",
    "    output = ipd.Audio(data=file, rate=sr)      # Bereitstellen der Aufnahme zum Abspielen \n",
    "    ipd.display(output)\n",
    "    \n",
    "    if detect_onsets == True:     # Erkennen der Onsets\n",
    "        x, _ = librosa.load(file)\n",
    "        onset_frames = librosa.onset.onset_detect(y=x, sr=sr, wait=1, pre_avg=1, post_avg=1, pre_max=1, post_max=1)       \n",
    "        onset_times = librosa.frames_to_time(onset_frames)\n",
    "    \n",
    "    data_plot, _ = sf.read(file)     # Plotten der Aufnahme\n",
    "    time = [None] * len(data_plot)      \n",
    "    for i in range(len(data_plot)):\n",
    "        time[i] = i / sr\n",
    "    plt.plot(time, data_plot)\n",
    "    if detect_onsets == True:\n",
    "        plt.vlines(onset_times, -1, 1, color='r')\n",
    "    plt.show"
   ]
  },
  {
   "cell_type": "code",
   "execution_count": 2,
   "id": "87d1465a",
   "metadata": {},
   "outputs": [],
   "source": [
    "def record(sr, file, detect_onsets, timer):\n",
    "    button = widgets.Button(icon = 'microphone', description = 'record')\n",
    "    ipd.display(button)\n",
    "\n",
    "    audio = pyaudio.PyAudio()\n",
    "    recording = []\n",
    "\n",
    "    stop_event = threading.Event()\n",
    "    \n",
    "    global rec\n",
    "    rec = False\n",
    "\n",
    "    def record(b):\n",
    "        stream = audio.open(format=pyaudio.paInt16, channels=1, rate = sr, input = True, frames_per_buffer=1024)\n",
    "        while True:\n",
    "            data = stream.read(1024)\n",
    "            recording.append(data)\n",
    "            if stop_event.is_set(): \n",
    "                break\n",
    "\n",
    "    def click(b):\n",
    "        global rec\n",
    "        \n",
    "        if rec == False:\n",
    "            rec = True\n",
    "\n",
    "            button_while_recording(button, timer)\n",
    "\n",
    "            recorder = threading.Thread(target=record, args=(1,)) \n",
    "            recorder.start()\n",
    "\n",
    "        elif rec == True:\n",
    "            rec = False \n",
    "\n",
    "            button.layout.display = 'none'\n",
    "            ipd.clear_output()\n",
    "\n",
    "            stop_event.set()\n",
    "\n",
    "            # def process_recording(file, recording, detect_onsets, audio, sr=44100)\n",
    "            process_recording(file, recording, detect_onsets, audio, sr)\n",
    "\n",
    "\n",
    "    button.on_click(click)"
   ]
  },
  {
   "cell_type": "code",
   "execution_count": 4,
   "id": "dad3d4ac",
   "metadata": {},
   "outputs": [],
   "source": [
    "def button_while_recording(button, timer):\n",
    "    button.icon = 'stop'\n",
    "    button.description = 'stop'\n",
    "    sleep(timer)\n",
    "    print('recording...')"
   ]
  }
 ],
 "metadata": {
  "kernelspec": {
   "display_name": "Python 3 (ipykernel)",
   "language": "python",
   "name": "python3"
  },
  "language_info": {
   "codemirror_mode": {
    "name": "ipython",
    "version": 3
   },
   "file_extension": ".py",
   "mimetype": "text/x-python",
   "name": "python",
   "nbconvert_exporter": "python",
   "pygments_lexer": "ipython3",
   "version": "3.10.1"
  }
 },
 "nbformat": 4,
 "nbformat_minor": 5
}
