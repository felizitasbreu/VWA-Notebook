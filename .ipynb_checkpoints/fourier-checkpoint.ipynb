{
 "cells": [
  {
   "cell_type": "code",
   "execution_count": 1,
   "id": "d522135b",
   "metadata": {},
   "outputs": [],
   "source": [
    "import numpy as np\n",
    "from matplotlib import pyplot as plt\n",
    "from scipy.fft import rfft, rfftfreq\n",
    "from scipy.signal import find_peaks\n",
    "import librosa"
   ]
  },
  {
   "cell_type": "code",
   "execution_count": 14,
   "id": "b84852a3",
   "metadata": {},
   "outputs": [],
   "source": [
    "def fourier_transform(wave, sr=44100):\n",
    "\n",
    "    x_fourier = rfftfreq(len(wave), 1 / sr)\n",
    "    y_fourier = np.abs(rfft(wave))\n",
    "    \n",
    "    return x_fourier, y_fourier"
   ]
  },
  {
   "cell_type": "code",
   "execution_count": null,
   "id": "53955ba7",
   "metadata": {},
   "outputs": [],
   "source": [
    "def plot_fourier(wave, x_fourier, y_fourier, sr=44100):\n",
    "    time = [None] * len(wave)\n",
    "    for i in range(len(wave)):\n",
    "        time[i] = i / sr\n",
    "\n",
    "    fig, [time_domain, frequency_domain] = plt.subplots(nrows=2, ncols=1)\n",
    "    \n",
    "    time_domain.plot(time, wave)\n",
    "    time_domain.set_xlabel(\"time (s)\")\n",
    "\n",
    "    frequency_domain.plot(x_fourier [:5000], y_fourier [:5000])\n",
    "    frequency_domain.set_xlabel(\"frequency (Hz)\")\n",
    "\n",
    "    plt.tight_layout()\n",
    "    plt.show()"
   ]
  },
  {
   "cell_type": "code",
   "execution_count": 2,
   "id": "212427bd",
   "metadata": {},
   "outputs": [],
   "source": [
    "def find_pitches(wave, y_fourier, sr = 44100):\n",
    "    duration = len(wave) / sr\n",
    "    peaks = find_peaks(y_fourier, height = np.ndarray.max(y_fourier)*0.3, distance=50)[0]\n",
    "\n",
    "    j=1\n",
    "    tones=[None]*len(peaks)\n",
    "    try:\n",
    "        for i in np.nditer(peaks):\n",
    "            print(\"Tonhoehe{}:\".format(j), i/duration, \"Hertz\")\n",
    "            tone = librosa.hz_to_note(i/duration)\n",
    "            print(\"Ton{}:\".format(j), tone)\n",
    "            tones[j-1] = tone\n",
    "            j+=1\n",
    "        return tones\n",
    "    except(ValueError): \n",
    "        print(\"No pitch found\")"
   ]
  }
 ],
 "metadata": {
  "kernelspec": {
   "display_name": "Python 3 (ipykernel)",
   "language": "python",
   "name": "python3"
  },
  "language_info": {
   "codemirror_mode": {
    "name": "ipython",
    "version": 3
   },
   "file_extension": ".py",
   "mimetype": "text/x-python",
   "name": "python",
   "nbconvert_exporter": "python",
   "pygments_lexer": "ipython3",
   "version": "3.10.1"
  }
 },
 "nbformat": 4,
 "nbformat_minor": 5
}
